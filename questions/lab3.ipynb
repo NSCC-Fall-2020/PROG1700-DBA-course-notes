{
 "cells": [
  {
   "cell_type": "code",
   "execution_count": 3,
   "metadata": {
    "collapsed": true
   },
   "outputs": [
    {
     "name": "stdout",
     "output_type": "stream",
     "text": [
      "This is a sentence.\n"
     ]
    }
   ],
   "source": [
    "# how to capitalize the first letter of a sentence\n",
    "sentence = \"this is a sentence.\"\n",
    "\n",
    "list1 = list(sentence)\n",
    "list1[0] = list1[0].upper()\n",
    "sentence = \"\".join(list1)\n",
    "print(sentence)"
   ]
  },
  {
   "cell_type": "code",
   "execution_count": 5,
   "outputs": [
    {
     "name": "stdout",
     "output_type": "stream",
     "text": [
      "This is a sentence.\n"
     ]
    }
   ],
   "source": [
    "# how to capitalize the first letter of a sentence\n",
    "sentence = \"this is a sentence.\"\n",
    "sentence = sentence[0].upper() + sentence[1:]\n",
    "print(sentence)"
   ],
   "metadata": {
    "collapsed": false,
    "pycharm": {
     "name": "#%%\n"
    }
   }
  },
  {
   "cell_type": "code",
   "execution_count": 8,
   "outputs": [
    {
     "name": "stdout",
     "output_type": "stream",
     "text": [
      "This is a sentence.\n"
     ]
    }
   ],
   "source": [
    "# how to capitalize the first letter of a sentence\n",
    "sentence = \"this is a sentence.\"\n",
    "print(sentence.capitalize())"
   ],
   "metadata": {
    "collapsed": false,
    "pycharm": {
     "name": "#%%\n"
    }
   }
  },
  {
   "cell_type": "code",
   "execution_count": 12,
   "outputs": [
    {
     "name": "stdout",
     "output_type": "stream",
     "text": [
      "Key: New Years Eve, Value: 31\n"
     ]
    }
   ],
   "source": [
    "holidays = {\n",
    "    \"Valentines\": 14,\n",
    "    \"Christmas\": 25,\n",
    "    \"New Years\": 1,\n",
    "    \"New Years Eve\": 31,\n",
    "    \"Canada Day\": 1,\n",
    "    \"Remembrance Day\": 11,\n",
    "    \"Halloween\": 31\n",
    "}\n",
    "\n",
    "current_day = 29\n",
    "\n",
    "for k,v in holidays.items():\n",
    "    if v > current_day:\n",
    "        print(f\"Key: {k}, Value: {v}\")\n",
    "        break"
   ],
   "metadata": {
    "collapsed": false,
    "pycharm": {
     "name": "#%%\n"
    }
   }
  },
  {
   "cell_type": "code",
   "execution_count": 15,
   "outputs": [
    {
     "name": "stdout",
     "output_type": "stream",
     "text": [
      "Key: New Years Eve, Value: 31\n",
      "Key: Halloween, Value: 31\n",
      "Key: New Years Eve, Value: 31\n",
      "Key: Halloween, Value: 31\n",
      "Key: New Years Eve, Value: 31\n",
      "Key: Halloween, Value: 31\n"
     ]
    }
   ],
   "source": [
    "\n",
    "holidays = {\n",
    "    \"Valentines\": 14,\n",
    "    \"Christmas\": 25,\n",
    "    \"New Years\": 1,\n",
    "    \"New Years Eve\": 31,\n",
    "    \"Canada Day\": 1,\n",
    "    \"Remembrance Day\": 11,\n",
    "    \"Halloween\": 31\n",
    "}\n",
    "\n",
    "current_day = 29\n",
    "\n",
    "for v in holidays.values():\n",
    "    if v > current_day:\n",
    "        for k in holidays.keys():\n",
    "            if v == holidays[k]:\n",
    "                print(f\"Key: {k}, Value: {v}\")\n",
    "\n",
    "for k in holidays.keys():\n",
    "    if holidays[k] > current_day:\n",
    "        print(f\"Key: {k}, Value: {holidays[k]}\")"
   ],
   "metadata": {
    "collapsed": false,
    "pycharm": {
     "name": "#%%\n"
    }
   }
  },
  {
   "cell_type": "code",
   "execution_count": 17,
   "outputs": [
    {
     "name": "stdout",
     "output_type": "stream",
     "text": [
      "H\n",
      "E\n",
      "L\n",
      "L\n",
      "O\n",
      " \n",
      "W\n",
      "O\n",
      "R\n",
      "L\n",
      "D\n"
     ]
    }
   ],
   "source": [
    "user_input = \"Hello World\"\n",
    "for ch in str:\n",
    "    print(ch.upper())"
   ],
   "metadata": {
    "collapsed": false,
    "pycharm": {
     "name": "#%%\n"
    }
   }
  },
  {
   "cell_type": "code",
   "execution_count": null,
   "outputs": [],
   "source": [
    "for i in range(5):\n",
    "    for j in range(5):"
   ],
   "metadata": {
    "collapsed": false,
    "pycharm": {
     "name": "#%%\n"
    }
   }
  },
  {
   "cell_type": "code",
   "execution_count": null,
   "outputs": [],
   "source": [],
   "metadata": {
    "collapsed": false,
    "pycharm": {
     "name": "#%%\n"
    }
   }
  }
 ],
 "metadata": {
  "kernelspec": {
   "display_name": "Python 3",
   "language": "python",
   "name": "python3"
  },
  "language_info": {
   "codemirror_mode": {
    "name": "ipython",
    "version": 2
   },
   "file_extension": ".py",
   "mimetype": "text/x-python",
   "name": "python",
   "nbconvert_exporter": "python",
   "pygments_lexer": "ipython2",
   "version": "2.7.6"
  }
 },
 "nbformat": 4,
 "nbformat_minor": 0
}