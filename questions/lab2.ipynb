{
 "cells": [
  {
   "cell_type": "code",
   "execution_count": 5,
   "metadata": {},
   "outputs": [
    {
     "name": "stdout",
     "output_type": "stream",
     "text": [
      "    o\n",
      "   oo\n",
      "  ooo\n",
      " oooo\n",
      "ooooo\n"
     ]
    }
   ],
   "source": [
    "# draw a triangle\n",
    "#     o\n",
    "#    oo\n",
    "#   ooo\n",
    "#  oooo\n",
    "# ooooo\n",
    "for row in range(1, 6):\n",
    "    # print the number of spaces for each row\n",
    "    for spaces in range(5-row):\n",
    "        print(\" \", end='')\n",
    "    # print the 'o's for each row\n",
    "    for col in range(row):\n",
    "        print(\"o\", end='')\n",
    "    print()"
   ]
  },
  {
   "cell_type": "code",
   "execution_count": null,
   "metadata": {},
   "outputs": [],
   "source": []
  }
 ],
 "metadata": {
  "kernelspec": {
   "display_name": "Python 3",
   "language": "python",
   "name": "python3"
  },
  "language_info": {
   "codemirror_mode": {
    "name": "ipython",
    "version": 3
   },
   "file_extension": ".py",
   "mimetype": "text/x-python",
   "name": "python",
   "nbconvert_exporter": "python",
   "pygments_lexer": "ipython3",
   "version": "3.8.5"
  }
 },
 "nbformat": 4,
 "nbformat_minor": 4
}
