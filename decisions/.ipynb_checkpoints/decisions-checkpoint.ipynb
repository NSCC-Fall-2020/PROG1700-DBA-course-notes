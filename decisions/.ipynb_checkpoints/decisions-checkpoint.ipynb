{
 "cells": [
  {
   "cell_type": "code",
   "execution_count": 1,
   "metadata": {},
   "outputs": [
    {
     "name": "stdout",
     "output_type": "stream",
     "text": [
      "Get a pail of water.\n"
     ]
    }
   ],
   "source": [
    "if True:\n",
    "    print(\"Get a pail of water.\")"
   ]
  },
  {
   "cell_type": "code",
   "execution_count": 2,
   "metadata": {},
   "outputs": [],
   "source": [
    "if False:\n",
    "    print(\"You won't see this!\")"
   ]
  },
  {
   "cell_type": "code",
   "execution_count": 5,
   "metadata": {},
   "outputs": [],
   "source": [
    "if False:\n",
    "    print(\"You won't see this!\")\n",
    "print(\"You will see this!\")"
   ]
  },
  {
   "cell_type": "code",
   "execution_count": 6,
   "metadata": {},
   "outputs": [
    {
     "data": {
      "text/plain": [
       "True"
      ]
     },
     "execution_count": 6,
     "metadata": {},
     "output_type": "execute_result"
    }
   ],
   "source": [
    "3 > 2"
   ]
  },
  {
   "cell_type": "code",
   "execution_count": 7,
   "metadata": {},
   "outputs": [
    {
     "data": {
      "text/plain": [
       "False"
      ]
     },
     "execution_count": 7,
     "metadata": {},
     "output_type": "execute_result"
    }
   ],
   "source": [
    "2 > 3"
   ]
  },
  {
   "cell_type": "code",
   "execution_count": 8,
   "metadata": {},
   "outputs": [],
   "source": [
    "num = 2"
   ]
  },
  {
   "cell_type": "code",
   "execution_count": 9,
   "metadata": {},
   "outputs": [
    {
     "data": {
      "text/plain": [
       "False"
      ]
     },
     "execution_count": 9,
     "metadata": {},
     "output_type": "execute_result"
    }
   ],
   "source": [
    "num > 3"
   ]
  },
  {
   "cell_type": "code",
   "execution_count": 10,
   "metadata": {},
   "outputs": [
    {
     "data": {
      "text/plain": [
       "True"
      ]
     },
     "execution_count": 10,
     "metadata": {},
     "output_type": "execute_result"
    }
   ],
   "source": [
    "num < 3"
   ]
  },
  {
   "cell_type": "code",
   "execution_count": 14,
   "metadata": {},
   "outputs": [
    {
     "name": "stdout",
     "output_type": "stream",
     "text": [
      "4 > 3\n"
     ]
    }
   ],
   "source": [
    "num = 4\n",
    "if num > 3:\n",
    "    print(f\"{num} > 3\")"
   ]
  },
  {
   "cell_type": "code",
   "execution_count": 17,
   "metadata": {},
   "outputs": [
    {
     "name": "stdout",
     "output_type": "stream",
     "text": [
      "20 > 10\n",
      "20 >= 10\n",
      "20 != 10\n"
     ]
    }
   ],
   "source": [
    "# mathematical comparisons\n",
    "num = 20\n",
    "\n",
    "if num < 10:\n",
    "    print(f\"{num} < 10\")\n",
    "if num > 10:\n",
    "    print(f\"{num} > 10\")\n",
    "if num <= 10:\n",
    "    print(f\"{num} <= 10\")\n",
    "if num >= 10:\n",
    "    print(f\"{num} >= 10\")\n",
    "if num == 10:\n",
    "    print(f\"{num} = 10\")\n",
    "if num != 10:\n",
    "    print(f\"{num} != 10\")\n"
   ]
  },
  {
   "cell_type": "code",
   "execution_count": 24,
   "metadata": {},
   "outputs": [
    {
     "name": "stdout",
     "output_type": "stream",
     "text": [
      "True!\n"
     ]
    }
   ],
   "source": [
    "compare = 3 > 2\n",
    "if compare:\n",
    "    print(\"True!\")\n",
    "if compare == False:\n",
    "    print(\"False!\")"
   ]
  },
  {
   "cell_type": "code",
   "execution_count": 26,
   "metadata": {},
   "outputs": [
    {
     "name": "stdout",
     "output_type": "stream",
     "text": [
      "You entered a Yes!\n"
     ]
    }
   ],
   "source": [
    "user_input = \"Yes\"\n",
    "if user_input == \"Yes\":\n",
    "    print(\"You entered a Yes!\")"
   ]
  },
  {
   "cell_type": "code",
   "execution_count": 30,
   "metadata": {},
   "outputs": [
    {
     "name": "stdout",
     "output_type": "stream",
     "text": [
      "fruit salad!\n"
     ]
    }
   ],
   "source": [
    "apple = \"apple\"\n",
    "if apple != \"banana\":\n",
    "    print(\"fruit salad!\")"
   ]
  },
  {
   "cell_type": "code",
   "execution_count": 33,
   "metadata": {},
   "outputs": [],
   "source": [
    "salary = 1_000_000\n",
    "if salary > 1_000_000:\n",
    "    print(\"I'm on vacation\")\n",
    "if salary < 1_000_000:\n",
    "    print(\"I have to work....\")"
   ]
  },
  {
   "cell_type": "code",
   "execution_count": 34,
   "metadata": {},
   "outputs": [
    {
     "name": "stdout",
     "output_type": "stream",
     "text": [
      "I have to work....\n"
     ]
    }
   ],
   "source": [
    "salary = 1_000_000\n",
    "if salary > 1_000_000:\n",
    "    print(\"I'm on vacation\")\n",
    "else:\n",
    "    print(\"I have to work....\")"
   ]
  },
  {
   "cell_type": "code",
   "execution_count": 36,
   "metadata": {},
   "outputs": [
    {
     "name": "stdin",
     "output_type": "stream",
     "text": [
      "Enter your password: narnia\n"
     ]
    },
    {
     "name": "stdout",
     "output_type": "stream",
     "text": [
      "Have fun eating lunch with a Lion!\n"
     ]
    }
   ],
   "source": [
    "password = input(\"Enter your password:\")\n",
    "if password == \"narnia\":\n",
    "    print(\"Have fun eating lunch with a Lion!\")\n",
    "else:\n",
    "    print(\"No entry allowed!\")"
   ]
  },
  {
   "cell_type": "code",
   "execution_count": 40,
   "metadata": {},
   "outputs": [
    {
     "name": "stdout",
     "output_type": "stream",
     "text": [
      "Trial Version!\n"
     ]
    }
   ],
   "source": [
    "product_key = \"ABCD-12345\"\n",
    "if product_key < \"ABCE\":\n",
    "    print(\"Trial Version!\")\n",
    "if product_key >= \"ABCE\" and product_key < \"ABCF\":\n",
    "    print(\"Community Edition\")\n",
    "if product_key >= \"ABCE-5\" and product_key <= \"ABCE-6\":\n",
    "    print(\"Party Edition!\")\n",
    "if product_key >= \"ABCF\":\n",
    "    print(\"Full Version\")"
   ]
  },
  {
   "cell_type": "code",
   "execution_count": null,
   "metadata": {},
   "outputs": [],
   "source": []
  }
 ],
 "metadata": {
  "kernelspec": {
   "display_name": "Python 3",
   "language": "python",
   "name": "python3"
  },
  "language_info": {
   "codemirror_mode": {
    "name": "ipython",
    "version": 3
   },
   "file_extension": ".py",
   "mimetype": "text/x-python",
   "name": "python",
   "nbconvert_exporter": "python",
   "pygments_lexer": "ipython3",
   "version": "3.8.5"
  }
 },
 "nbformat": 4,
 "nbformat_minor": 4
}
