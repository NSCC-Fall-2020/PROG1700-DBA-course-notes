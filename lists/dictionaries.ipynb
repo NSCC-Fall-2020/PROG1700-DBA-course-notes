{
 "cells": [
  {
   "cell_type": "code",
   "execution_count": 14,
   "metadata": {
    "collapsed": true
   },
   "outputs": [
    {
     "name": "stdout",
     "output_type": "stream",
     "text": [
      "Nova Scotia Community College\n"
     ]
    },
    {
     "data": {
      "text/plain": "3"
     },
     "execution_count": 14,
     "metadata": {},
     "output_type": "execute_result"
    }
   ],
   "source": [
    "schools = {\n",
    "    \"NSCC\":\"Nova Scotia Community College\",\n",
    "    \"SMU\":\"St. Mary's University\",\n",
    "    \"MSVU\":\"Mount St. Vincent University\"\n",
    "}\n",
    "print(schools[\"NSCC\"])\n",
    "\n",
    "len(schools)"
   ]
  },
  {
   "cell_type": "code",
   "execution_count": 5,
   "outputs": [
    {
     "name": "stdout",
     "output_type": "stream",
     "text": [
      "Nova Scotia Community College\n",
      "St. Mary's University\n",
      "Mount St. Vincent University\n"
     ]
    }
   ],
   "source": [
    "for s in schools.keys():\n",
    "    print(schools[s])"
   ],
   "metadata": {
    "collapsed": false,
    "pycharm": {
     "name": "#%%\n"
    }
   }
  },
  {
   "cell_type": "code",
   "execution_count": 6,
   "outputs": [
    {
     "name": "stdout",
     "output_type": "stream",
     "text": [
      "Nova Scotia Community College\n",
      "St. Mary's University\n",
      "Mount St. Vincent University\n"
     ]
    }
   ],
   "source": [
    "for v in schools.values():\n",
    "    print(v)"
   ],
   "metadata": {
    "collapsed": false,
    "pycharm": {
     "name": "#%%\n"
    }
   }
  },
  {
   "cell_type": "code",
   "execution_count": 8,
   "outputs": [
    {
     "name": "stdout",
     "output_type": "stream",
     "text": [
      "k:NSCC,v:Nova Scotia Community College\n",
      "k:SMU,v:St. Mary's University\n",
      "k:MSVU,v:Mount St. Vincent University\n"
     ]
    }
   ],
   "source": [
    "for k,v in schools.items():\n",
    "    print(f\"k:{k},v:{v}\")"
   ],
   "metadata": {
    "collapsed": false,
    "pycharm": {
     "name": "#%%\n"
    }
   }
  },
  {
   "cell_type": "code",
   "execution_count": 9,
   "outputs": [
    {
     "ename": "KeyError",
     "evalue": "'DAL'",
     "output_type": "error",
     "traceback": [
      "\u001B[1;31m---------------------------------------------------------------------------\u001B[0m",
      "\u001B[1;31mKeyError\u001B[0m                                  Traceback (most recent call last)",
      "\u001B[1;32m<ipython-input-9-380f10bcd00e>\u001B[0m in \u001B[0;36m<module>\u001B[1;34m\u001B[0m\n\u001B[1;32m----> 1\u001B[1;33m \u001B[0mprint\u001B[0m\u001B[1;33m(\u001B[0m\u001B[0mschools\u001B[0m\u001B[1;33m[\u001B[0m\u001B[1;34m\"DAL\"\u001B[0m\u001B[1;33m]\u001B[0m\u001B[1;33m)\u001B[0m\u001B[1;33m\u001B[0m\u001B[1;33m\u001B[0m\u001B[0m\n\u001B[0m",
      "\u001B[1;31mKeyError\u001B[0m: 'DAL'"
     ]
    }
   ],
   "source": [
    "print(schools[\"DAL\"])"
   ],
   "metadata": {
    "collapsed": false,
    "pycharm": {
     "name": "#%%\n"
    }
   }
  },
  {
   "cell_type": "code",
   "execution_count": 10,
   "outputs": [
    {
     "name": "stdout",
     "output_type": "stream",
     "text": [
      "Unknown School\n"
     ]
    }
   ],
   "source": [
    "print(schools.get(\"DAL\", \"Unknown School\"))"
   ],
   "metadata": {
    "collapsed": false,
    "pycharm": {
     "name": "#%%\n"
    }
   }
  },
  {
   "cell_type": "code",
   "execution_count": 11,
   "outputs": [],
   "source": [
    "del schools[\"MSVU\"]"
   ],
   "metadata": {
    "collapsed": false,
    "pycharm": {
     "name": "#%%\n"
    }
   }
  },
  {
   "cell_type": "code",
   "execution_count": 13,
   "outputs": [
    {
     "data": {
      "text/plain": "\"St. Mary's University\""
     },
     "execution_count": 13,
     "metadata": {},
     "output_type": "execute_result"
    }
   ],
   "source": [
    "schools.pop(\"SMU\", \"Unknown School\")"
   ],
   "metadata": {
    "collapsed": false,
    "pycharm": {
     "name": "#%%\n"
    }
   }
  },
  {
   "cell_type": "code",
   "execution_count": 15,
   "outputs": [
    {
     "data": {
      "text/plain": "('MSVU', 'Mount St. Vincent University')"
     },
     "execution_count": 15,
     "metadata": {},
     "output_type": "execute_result"
    }
   ],
   "source": [
    "schools.popitem()"
   ],
   "metadata": {
    "collapsed": false,
    "pycharm": {
     "name": "#%%\n"
    }
   }
  },
  {
   "cell_type": "code",
   "execution_count": 16,
   "outputs": [],
   "source": [
    "schools.clear()"
   ],
   "metadata": {
    "collapsed": false,
    "pycharm": {
     "name": "#%%\n"
    }
   }
  },
  {
   "cell_type": "code",
   "execution_count": 17,
   "outputs": [
    {
     "name": "stdout",
     "output_type": "stream",
     "text": [
      "ID: W123456: John Smith, john.smith@nscc.ca\n",
      "ID: W111111: Jane Doe, jane.doe@nscc.ca\n",
      "ID: W222222: James Kirk, james.kirk@nscc.ca\n",
      "ID: W333333: Jean-Luc Picard, jean-luc.picard@nscc.ca\n"
     ]
    }
   ],
   "source": [
    "# simple student database\n",
    "\n",
    "db = { \"W123456\": (\"John\", \"Smith\", \"john.smith@nscc.ca\") }\n",
    "\n",
    "while True:\n",
    "    user_input = input(\"Add a new student number ('q' to quit): \")\n",
    "    if user_input == 'q':\n",
    "        break\n",
    "    db[user_input] = ()\n",
    "    first_name = input(\"Student First Name: \")\n",
    "    last_name = input(\"Student Last Name: \")\n",
    "    email = input(\"Student Email Address: \")\n",
    "    db[user_input] = (first_name, last_name, email)\n",
    "\n",
    "for k, v in db.items():\n",
    "    fn, ln, e = v\n",
    "    print(f\"ID: {k}: {fn} {ln}, {e}\")"
   ],
   "metadata": {
    "collapsed": false,
    "pycharm": {
     "name": "#%%\n"
    }
   }
  }
 ],
 "metadata": {
  "kernelspec": {
   "display_name": "Python 3",
   "language": "python",
   "name": "python3"
  },
  "language_info": {
   "codemirror_mode": {
    "name": "ipython",
    "version": 2
   },
   "file_extension": ".py",
   "mimetype": "text/x-python",
   "name": "python",
   "nbconvert_exporter": "python",
   "pygments_lexer": "ipython2",
   "version": "2.7.6"
  }
 },
 "nbformat": 4,
 "nbformat_minor": 0
}