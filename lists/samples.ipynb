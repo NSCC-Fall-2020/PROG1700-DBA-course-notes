{
 "cells": [
  {
   "cell_type": "code",
   "execution_count": 8,
   "metadata": {
    "collapsed": true
   },
   "outputs": [],
   "source": [
    "# create a program that asks the user for a word or\n",
    "# phrase and determines whether or not it is a\n",
    "# palindrome (e.g. racecar, mom, tenet, \"a nut for a jar of tuna\")\n",
    "\n",
    "user_input = input(\"Enter a word or phrase: \")\n",
    "\n",
    "fwd = list(user_input)\n",
    "rev = list(user_input)\n",
    "rev.reverse()\n",
    "\n",
    "if fwd == rev:\n",
    "    print(f\"'{user_input}' is a palindrome.\")"
   ]
  },
  {
   "cell_type": "code",
   "execution_count": 20,
   "outputs": [
    {
     "name": "stdout",
     "output_type": "stream",
     "text": [
      "'a nut for a jar of tuna' is a palindrome.\n"
     ]
    }
   ],
   "source": [
    "user_input = input(\"Enter a word or phrase: \")\n",
    "\n",
    "# remove all spaces\n",
    "user_list = list(user_input)\n",
    "i = 0\n",
    "while (i < len(user_list)):\n",
    "    if user_list[i] == \" \":\n",
    "        del user_list[i]\n",
    "    else:\n",
    "        i += 1\n",
    "\n",
    "equal = True\n",
    "for i in range(len(user_list)//2+2):\n",
    "    if user_list[i] != user_list[-i-1]:\n",
    "        equal = False\n",
    "if equal:\n",
    "    print(f\"'{user_input}' is a palindrome.\")\n",
    "else:\n",
    "    print(f\"'{user_input}' is NOT a palindrome.\")"
   ],
   "metadata": {
    "collapsed": false,
    "pycharm": {
     "name": "#%%\n"
    }
   }
  },
  {
   "cell_type": "code",
   "execution_count": 31,
   "outputs": [],
   "source": [
    "user_input = \"racecar\"\n",
    "first_half = user_input[:len(user_input)//2+1]\n",
    "second_half = user_input[-1:len(user_input)//2-1:-1]\n",
    "if first_half == second_half:\n",
    "    print(\"It's a palindrome!\")"
   ],
   "metadata": {
    "collapsed": false,
    "pycharm": {
     "name": "#%%\n"
    }
   }
  },
  {
   "cell_type": "code",
   "execution_count": null,
   "outputs": [],
   "source": [],
   "metadata": {
    "collapsed": false,
    "pycharm": {
     "name": "#%%\n"
    }
   }
  }
 ],
 "metadata": {
  "kernelspec": {
   "display_name": "Python 3",
   "language": "python",
   "name": "python3"
  },
  "language_info": {
   "codemirror_mode": {
    "name": "ipython",
    "version": 2
   },
   "file_extension": ".py",
   "mimetype": "text/x-python",
   "name": "python",
   "nbconvert_exporter": "python",
   "pygments_lexer": "ipython2",
   "version": "2.7.6"
  }
 },
 "nbformat": 4,
 "nbformat_minor": 0
}