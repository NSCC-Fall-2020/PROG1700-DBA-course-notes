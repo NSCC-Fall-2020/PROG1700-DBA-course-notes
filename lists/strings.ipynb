{
 "cells": [
  {
   "cell_type": "code",
   "execution_count": 6,
   "metadata": {
    "collapsed": true
   },
   "outputs": [
    {
     "data": {
      "text/plain": "False"
     },
     "execution_count": 6,
     "metadata": {},
     "output_type": "execute_result"
    }
   ],
   "source": [
    "user_input = \"This is a story about a man named Jed\"\n",
    "user_input = \"Jed\"\n",
    "user_input.isalpha()\n",
    "user_input = \"123\"\n",
    "user_input.isdigit()\n",
    "user_input = \" 123assdfsdf\"\n",
    "user_input.isalnum()"
   ]
  },
  {
   "cell_type": "code",
   "execution_count": 10,
   "outputs": [
    {
     "data": {
      "text/plain": "False"
     },
     "execution_count": 10,
     "metadata": {},
     "output_type": "execute_result"
    }
   ],
   "source": [
    "user_input = \"This is a story about a man named Jed.\"\n",
    "check_value = user_input.replace(\" \",\"a\")\n",
    "check_value.isalpha()"
   ],
   "metadata": {
    "collapsed": false,
    "pycharm": {
     "name": "#%%\n"
    }
   }
  },
  {
   "cell_type": "code",
   "execution_count": 11,
   "outputs": [
    {
     "name": "stdout",
     "output_type": "stream",
     "text": [
      "Jed. is invalid.\n"
     ]
    }
   ],
   "source": [
    "user_input = \"This is a story about a man named Jed.\"\n",
    "check_list = user_input.split()\n",
    "for word in check_list:\n",
    "    if not word.isalpha():\n",
    "        print(f\"{word} is invalid.\")"
   ],
   "metadata": {
    "collapsed": false,
    "pycharm": {
     "name": "#%%\n"
    }
   }
  },
  {
   "cell_type": "code",
   "execution_count": null,
   "outputs": [],
   "source": [],
   "metadata": {
    "collapsed": false,
    "pycharm": {
     "name": "#%%\n"
    }
   }
  }
 ],
 "metadata": {
  "kernelspec": {
   "display_name": "Python 3",
   "language": "python",
   "name": "python3"
  },
  "language_info": {
   "codemirror_mode": {
    "name": "ipython",
    "version": 2
   },
   "file_extension": ".py",
   "mimetype": "text/x-python",
   "name": "python",
   "nbconvert_exporter": "python",
   "pygments_lexer": "ipython2",
   "version": "2.7.6"
  }
 },
 "nbformat": 4,
 "nbformat_minor": 0
}