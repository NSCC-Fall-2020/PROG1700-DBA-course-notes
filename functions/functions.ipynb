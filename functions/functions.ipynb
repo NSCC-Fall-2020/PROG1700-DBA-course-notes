{
 "cells": [
  {
   "cell_type": "code",
   "execution_count": 10,
   "metadata": {
    "collapsed": true
   },
   "outputs": [
    {
     "name": "stdout",
     "output_type": "stream",
     "text": [
      "Hello, World!\n",
      "Hello, again!\n"
     ]
    }
   ],
   "source": [
    "def hello():\n",
    "    return \"Hello, \"\n",
    "\n",
    "def hello_phrase(phrase):\n",
    "    return hello() + phrase\n",
    "\n",
    "print(hello_phrase(\"World!\"))\n",
    "print(hello_phrase(\"again!\"))"
   ]
  },
  {
   "cell_type": "code",
   "execution_count": 12,
   "outputs": [
    {
     "name": "stdout",
     "output_type": "stream",
     "text": [
      "Average #1: 50.0\n",
      "Average #2: 51.166666666666664\n"
     ]
    }
   ],
   "source": [
    "def calc_average(nums):\n",
    "    sum = 0\n",
    "    for n in nums:\n",
    "        sum += n\n",
    "    avg = sum / len(nums)\n",
    "    return avg\n",
    "\n",
    "nums = [10,15,23,65,87,100]\n",
    "avg = calc_average(nums)\n",
    "print(f\"Average #1: {avg}\")\n",
    "\n",
    "nums2 = [10,15,23,72,87,100]\n",
    "avg = calc_average(nums2)\n",
    "print(f\"Average #2: {avg}\")"
   ],
   "metadata": {
    "collapsed": false,
    "pycharm": {
     "name": "#%%\n"
    }
   }
  },
  {
   "cell_type": "code",
   "execution_count": null,
   "outputs": [],
   "source": [],
   "metadata": {
    "collapsed": false,
    "pycharm": {
     "name": "#%%\n"
    }
   }
  }
 ],
 "metadata": {
  "kernelspec": {
   "display_name": "Python 3",
   "language": "python",
   "name": "python3"
  },
  "language_info": {
   "codemirror_mode": {
    "name": "ipython",
    "version": 2
   },
   "file_extension": ".py",
   "mimetype": "text/x-python",
   "name": "python",
   "nbconvert_exporter": "python",
   "pygments_lexer": "ipython2",
   "version": "2.7.6"
  }
 },
 "nbformat": 4,
 "nbformat_minor": 0
}