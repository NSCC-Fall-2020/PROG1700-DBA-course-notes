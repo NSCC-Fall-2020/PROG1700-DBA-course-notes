{
 "cells": [
  {
   "cell_type": "code",
   "execution_count": 1,
   "metadata": {
    "collapsed": true
   },
   "outputs": [
    {
     "name": "stdout",
     "output_type": "stream",
     "text": [
      "[1, 2, 3]\n"
     ]
    }
   ],
   "source": [
    "my_list = []\n",
    "\n",
    "def add_to_list(num):\n",
    "    my_list.append(num)\n",
    "\n",
    "add_to_list(1)\n",
    "add_to_list(2)\n",
    "add_to_list(3)\n",
    "print(my_list)"
   ]
  },
  {
   "cell_type": "code",
   "execution_count": 4,
   "outputs": [
    {
     "data": {
      "text/plain": "0.0254"
     },
     "execution_count": 4,
     "metadata": {},
     "output_type": "execute_result"
    }
   ],
   "source": [
    "# convert inches to mm, cm or m\n",
    "def convert_inch_to_metric(inches, unit):\n",
    "    if unit == \"mm\":\n",
    "        return inches * 25.4\n",
    "    elif unit == \"cm\":\n",
    "        return inches * 2.54\n",
    "    elif unit == \"m\":\n",
    "        return inches * 0.0254\n",
    "\n",
    "# convert 1 inch to mm\n",
    "convert_inch_to_metric(1, \"mm\")\n",
    "convert_inch_to_metric(1, \"cm\")\n",
    "convert_inch_to_metric(1, \"m\")"
   ],
   "metadata": {
    "collapsed": false,
    "pycharm": {
     "name": "#%%\n"
    }
   }
  },
  {
   "cell_type": "code",
   "execution_count": null,
   "outputs": [],
   "source": [],
   "metadata": {
    "collapsed": false,
    "pycharm": {
     "name": "#%%\n"
    }
   }
  }
 ],
 "metadata": {
  "kernelspec": {
   "display_name": "Python 3",
   "language": "python",
   "name": "python3"
  },
  "language_info": {
   "codemirror_mode": {
    "name": "ipython",
    "version": 2
   },
   "file_extension": ".py",
   "mimetype": "text/x-python",
   "name": "python",
   "nbconvert_exporter": "python",
   "pygments_lexer": "ipython2",
   "version": "2.7.6"
  }
 },
 "nbformat": 4,
 "nbformat_minor": 0
}