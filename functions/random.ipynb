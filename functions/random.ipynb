{
 "cells": [
  {
   "cell_type": "code",
   "execution_count": 8,
   "metadata": {
    "collapsed": true
   },
   "outputs": [
    {
     "name": "stdout",
     "output_type": "stream",
     "text": [
      "22\n",
      "11\n",
      "20\n"
     ]
    }
   ],
   "source": [
    "import random\n",
    "\n",
    "# create a random number between 1 and 25 (inclusive)\n",
    "r = random.randrange(1,26)\n",
    "print(r)\n",
    "\n",
    "r = random.randint(1,25)\n",
    "print(r)\n",
    "\n",
    "r = int(random.random() * 25 + 1)\n",
    "print(r)"
   ]
  },
  {
   "cell_type": "code",
   "execution_count": 13,
   "outputs": [
    {
     "data": {
      "text/plain": "9"
     },
     "execution_count": 13,
     "metadata": {},
     "output_type": "execute_result"
    }
   ],
   "source": [
    "import random\n",
    "\n",
    "# create a random list of numbers 1 - 10\n",
    "list = []\n",
    "for x in range(1,11):\n",
    "    list.append(x)\n",
    "\n",
    "list = [x for x in range(1,11)]\n",
    "random.shuffle(list)\n",
    "list\n",
    "\n",
    "list = [x for x in range(1,11)]\n",
    "random.choice(list)"
   ],
   "metadata": {
    "collapsed": false,
    "pycharm": {
     "name": "#%%\n"
    }
   }
  },
  {
   "cell_type": "code",
   "execution_count": null,
   "outputs": [],
   "source": [],
   "metadata": {
    "collapsed": false,
    "pycharm": {
     "name": "#%%\n"
    }
   }
  }
 ],
 "metadata": {
  "kernelspec": {
   "display_name": "Python 3",
   "language": "python",
   "name": "python3"
  },
  "language_info": {
   "codemirror_mode": {
    "name": "ipython",
    "version": 2
   },
   "file_extension": ".py",
   "mimetype": "text/x-python",
   "name": "python",
   "nbconvert_exporter": "python",
   "pygments_lexer": "ipython2",
   "version": "2.7.6"
  }
 },
 "nbformat": 4,
 "nbformat_minor": 0
}